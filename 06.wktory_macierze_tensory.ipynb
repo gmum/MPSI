{
  "nbformat": 4,
  "nbformat_minor": 0,
  "metadata": {
    "colab": {
      "provenance": []
    },
    "kernelspec": {
      "name": "python3",
      "display_name": "Python 3"
    },
    "language_info": {
      "name": "python"
    }
  },
  "cells": [
    {
      "cell_type": "markdown",
      "source": [
        "**Wektory**"
      ],
      "metadata": {
        "id": "9TtYvZpfiHE2"
      }
    },
    {
      "cell_type": "markdown",
      "source": [
        "Wektor to uporządkowana krotka liczb."
      ],
      "metadata": {
        "id": "M1J-EscWidni"
      }
    },
    {
      "cell_type": "code",
      "source": [
        "vec = np.array([1, 2, 3])\n",
        "print(vec)"
      ],
      "metadata": {
        "colab": {
          "base_uri": "https://localhost:8080/"
        },
        "id": "GFMtt4j-ir4T",
        "outputId": "21cba116-eb61-4a88-c432-572dc280a8ba"
      },
      "execution_count": null,
      "outputs": [
        {
          "output_type": "stream",
          "name": "stdout",
          "text": [
            "[1 2 3]\n"
          ]
        }
      ]
    },
    {
      "cell_type": "markdown",
      "source": [
        "W interpretacji geometrycznej możemy mówić o zwrocie, kierunku i punkcie zaczepienia."
      ],
      "metadata": {
        "id": "A5fGf6H3i73x"
      }
    },
    {
      "cell_type": "code",
      "source": [
        "import matplotlib.pyplot as plt\n",
        "\n",
        "vec = np.array([3, 4])\n",
        "\n",
        "plt.figure()\n",
        "plt.quiver(0, 0, vec[0], vec[1], angles='xy', scale_units='xy', scale=1)\n",
        "plt.xlim(-1, vec[0] + 1)\n",
        "plt.ylim(-1, vec[1] + 1)\n",
        "plt.xlabel('X')\n",
        "plt.ylabel('Y')\n",
        "plt.title('Vector on a Plane')\n",
        "plt.grid(True)\n",
        "plt.show()\n"
      ],
      "metadata": {
        "colab": {
          "base_uri": "https://localhost:8080/",
          "height": 472
        },
        "id": "B7zBMYKujI0S",
        "outputId": "78b10d1c-f43d-4279-f06a-723171529d08"
      },
      "execution_count": null,
      "outputs": [
        {
          "output_type": "display_data",
          "data": {
            "text/plain": [
              "<Figure size 640x480 with 1 Axes>"
            ],
            "image/png": "[encoded data removed]"
          },
          "metadata": {}
        }
      ]
    },
    {
      "cell_type": "markdown",
      "source": [
        "Długość możemy obliczyć jako pierwiastek z sumy kwadratów różnic odpowiednich współrzędnych wektorów"
      ],
      "metadata": {
        "id": "CxTN1GBzUpaH"
      }
    },
    {
      "cell_type": "code",
      "source": [
        "import numpy as np\n",
        "\n",
        "vec = np.array([3, 4])\n",
        "\n",
        "vec_len = np.linalg.norm(vec)\n",
        "\n",
        "print(vec_len)"
      ],
      "metadata": {
        "colab": {
          "base_uri": "https://localhost:8080/"
        },
        "id": "21Ef7xPWU1nM",
        "outputId": "5d708cf5-747a-4f82-c181-66c111c07248"
      },
      "execution_count": null,
      "outputs": [
        {
          "output_type": "stream",
          "name": "stdout",
          "text": [
            "5.0\n"
          ]
        }
      ]
    },
    {
      "cell_type": "markdown",
      "source": [
        "**Operacje na wektorach**"
      ],
      "metadata": {
        "id": "O6RsFHTHqq5u"
      }
    },
    {
      "cell_type": "markdown",
      "source": [
        "Wektory można dodawać, odejmować i mnożyć (przez skalar, inny wektor skalanie i inny wektor wektorowo)"
      ],
      "metadata": {
        "id": "iyVU-DyLrAXY"
      }
    },
    {
      "cell_type": "code",
      "source": [
        "import matplotlib.pyplot as plt\n",
        "import numpy as np\n",
        "\n",
        "vec = np.array([2, 3])\n",
        "\n",
        "scalar = -0.5\n",
        "\n",
        "new_vec = scalar * vec\n",
        "\n",
        "plt.figure()\n",
        "plt.quiver(0, 0, vec[0], vec[1], angles='xy', scale_units='xy', scale=1, color='blue', label='Original Vector')\n",
        "plt.quiver(0, 0, new_vec[0], new_vec[1], angles='xy', scale_units='xy', scale=1, color='red', label='Scaled Vector')\n",
        "\n",
        "\n",
        "plt.xlim(min(vec[0], new_vec[0]) - 1, max(vec[0], new_vec[0]) + 1)\n",
        "plt.ylim(min(vec[1], new_vec[1]) - 1, max(vec[1], new_vec[1]) + 1)\n",
        "plt.xlabel('X')\n",
        "plt.ylabel('Y')\n",
        "plt.title('Vector and Scaled Vector on a Plane')\n",
        "plt.grid(True)\n",
        "plt.legend()\n",
        "plt.show()\n"
      ],
      "metadata": {
        "colab": {
          "base_uri": "https://localhost:8080/",
          "height": 472
        },
        "id": "2j5_JVHmtAYw",
        "outputId": "b521b7e3-76a9-4fc4-ccd5-6f69eff71bfd"
      },
      "execution_count": null,
      "outputs": [
        {
          "output_type": "display_data",
          "data": {
            "text/plain": [
              "<Figure size 640x480 with 1 Axes>"
            ],
            "image/png": "[encoded data removed]"
          },
          "metadata": {}
        }
      ]
    },
    {
      "cell_type": "markdown",
      "source": [
        "**Dodawanie wektorów**"
      ],
      "metadata": {
        "id": "qtIjbwrcX3vP"
      }
    },
    {
      "cell_type": "code",
      "source": [
        "import matplotlib.pyplot as plt\n",
        "import numpy as np\n",
        "\n",
        "vec1 = np.array([1, 1])\n",
        "vec2 = np.array([1, 3])\n",
        "\n",
        "vec_sum = vec1 + vec2\n",
        "\n",
        "plt.figure()\n",
        "plt.quiver(0, 0, vec1[0], vec1[1], angles='xy', scale_units='xy', scale=1, color='blue', label='Vector 1')\n",
        "plt.quiver(vec1[0], vec1[1], vec2[0], vec2[1], angles='xy', scale_units='xy', scale=1, color='red', label='Vector 2')\n",
        "plt.quiver(0, 0, vec_sum[0], vec_sum[1], angles='xy', scale_units='xy', scale=1, color='green', label='Vector Sum')\n",
        "\n",
        "plt.xlim(-1, vec_sum[0] + 1)\n",
        "plt.ylim(-1, vec_sum[1] + 1)\n",
        "\n",
        "plt.xlabel('X')\n",
        "plt.ylabel('Y')\n",
        "plt.title('Vector Addition on a Plane')\n",
        "plt.grid(True)\n",
        "plt.legend()\n",
        "\n",
        "plt.show()\n"
      ],
      "metadata": {
        "colab": {
          "base_uri": "https://localhost:8080/",
          "height": 472
        },
        "id": "B4AZm3D1X9wT",
        "outputId": "7323568a-c253-470f-e04d-912ad4cbd5cf"
      },
      "execution_count": null,
      "outputs": [
        {
          "output_type": "display_data",
          "data": {
            "text/plain": [
              "<Figure size 640x480 with 1 Axes>"
            ],
            "image/png": "[encoded data removed]"
          },
          "metadata": {}
        }
      ]
    },
    {
      "cell_type": "markdown",
      "source": [
        "Iloczyn skalarny - funckja przyporządkowująca dwóm wektorom liczbę\n",
        "$\\mathbf{v} \\cdot \\mathbf{w} = v_1w_1 + v_2w_2 + ... + v_nw_n = ||\\mathbf{v}|| \\cdot ||\\mathbf{w}|| \\cdot \\cos(\\theta)$"
      ],
      "metadata": {
        "id": "Yme7vuhp4GhX"
      }
    },
    {
      "cell_type": "code",
      "source": [
        "import numpy as np\n",
        "\n",
        "vector1 = np.array([1, 2])\n",
        "vector2 = np.array([3, 4])\n",
        "\n",
        "scalar_product = np.dot(vector1, vector2)\n",
        "\n",
        "print(scalar_product)\n"
      ],
      "metadata": {
        "colab": {
          "base_uri": "https://localhost:8080/"
        },
        "id": "NqlbVgdy8oMn",
        "outputId": "63d044e1-d8b2-4a6e-e2ef-66c6778cdc39"
      },
      "execution_count": null,
      "outputs": [
        {
          "output_type": "stream",
          "name": "stdout",
          "text": [
            "11\n"
          ]
        }
      ]
    },
    {
      "cell_type": "markdown",
      "source": [
        "W iloczynie uczestniczy cosinus kąta między wektorami, dlatego iloczyn skalarny się zeruje, jeśli wektory są prostopadłe"
      ],
      "metadata": {
        "id": "gULvduE8Tx0E"
      }
    },
    {
      "cell_type": "code",
      "source": [
        "import numpy as np\n",
        "\n",
        "vector1 = np.array([1, 2])\n",
        "vector2 = np.array([-2, 1])\n",
        "\n",
        "scalar_product = np.dot(vector1, vector2)\n",
        "\n",
        "print(scalar_product)\n"
      ],
      "metadata": {
        "colab": {
          "base_uri": "https://localhost:8080/"
        },
        "id": "fuqvfHVPUC4O",
        "outputId": "ff70c430-67e3-4700-b7a4-b20c1ebce2e4"
      },
      "execution_count": null,
      "outputs": [
        {
          "output_type": "stream",
          "name": "stdout",
          "text": [
            "0\n"
          ]
        }
      ]
    },
    {
      "cell_type": "code",
      "source": [
        "def calculate_cosine_angle(vector1, vector2):\n",
        "  dot_product = 0\n",
        "  magnitude_vector1 = 0\n",
        "  magnitude_vector2 = 0\n",
        "\n",
        "  for i in range(len(vector1)):\n",
        "    dot_product += vector1[i] * vector2[i]\n",
        "    magnitude_vector1 += vector1[i] ** 2\n",
        "    magnitude_vector2 += vector2[i] ** 2\n",
        "\n",
        "  magnitude_vector1 = magnitude_vector1 ** 0.5\n",
        "  magnitude_vector2 = magnitude_vector2 ** 0.5\n",
        "\n",
        "  if magnitude_vector1 == 0 or magnitude_vector2 == 0:\n",
        "    return 0\n",
        "\n",
        "  cosine_angle = dot_product / (magnitude_vector1 * magnitude_vector2)\n",
        "\n",
        "  return cosine_angle\n",
        "\n",
        "\n",
        "vector1 = [1, 2]\n",
        "vector2 = [3, 4]\n",
        "\n",
        "cosine_angle = calculate_cosine_angle(vector1, vector2)\n",
        "\n",
        "print(cosine_angle)\n"
      ],
      "metadata": {
        "colab": {
          "base_uri": "https://localhost:8080/"
        },
        "id": "wBQHflIPfAMm",
        "outputId": "ba569df6-4895-4bba-de21-6eb7840aa0f2"
      },
      "execution_count": null,
      "outputs": [
        {
          "output_type": "stream",
          "name": "stdout",
          "text": [
            "0.9838699100999074\n"
          ]
        }
      ]
    },
    {
      "cell_type": "markdown",
      "source": [
        "Iloczyn wektorowy - operacja binarna zdefiniowana dla dwóch wektorów w przestrzeni trójwymiarowej. Wynikiem iloczynu wektorowego jest wektor, który jest prostopadły do płaszczyzny wyznaczonej przez dwa wektory wejściowe. Długość tego wektora jest równa polu powierzchni równoległoboku rozpiętego na tych wektorach."
      ],
      "metadata": {
        "id": "_6uE5I-gaXC8"
      }
    },
    {
      "cell_type": "code",
      "source": [
        "import numpy as np\n",
        "\n",
        "vector1 = np.array([1, 2, 3])\n",
        "vector2 = np.array([4, 5, 6])\n",
        "\n",
        "vector_product = np.cross(vector1, vector2)\n",
        "\n",
        "print(vector_product)"
      ],
      "metadata": {
        "colab": {
          "base_uri": "https://localhost:8080/"
        },
        "id": "3lzXsdzIab2S",
        "outputId": "1c870686-4124-4d40-bb01-260a4b3b2841"
      },
      "execution_count": null,
      "outputs": [
        {
          "output_type": "stream",
          "name": "stdout",
          "text": [
            "[-3  6 -3]\n"
          ]
        }
      ]
    },
    {
      "cell_type": "code",
      "source": [
        "import numpy as np\n",
        "import matplotlib.pyplot as plt\n",
        "from mpl_toolkits.mplot3d import Axes3D\n",
        "\n",
        "# Definiujemy dwa wektory\n",
        "v1 = np.array([2, -1, 0])\n",
        "v2 = np.array([0, 3, 0])\n",
        "\n",
        "# Obliczamy iloczyn wektorowy\n",
        "v3 = np.cross(v1, v2)\n",
        "\n",
        "# Tworzymy wykres 3D\n",
        "fig = plt.figure()\n",
        "ax = fig.add_subplot(111, projection='3d')\n",
        "\n",
        "# Rysujemy wektory\n",
        "ax.quiver(0, 0, 0, v1[0], v1[1], v1[2], color='b', label='v1')\n",
        "ax.quiver(0, 0, 0, v2[0], v2[1], v2[2], color='r', label='v2')\n",
        "ax.quiver(0, 0, 0, v3[0], v3[1], v3[2], color='g', label='v1 x v2')\n",
        "\n",
        "# Ustawiamy limity osi\n",
        "ax.set_xlim([-3, 3])\n",
        "ax.set_ylim([-3, 3])\n",
        "ax.set_zlim([-3, 3])\n",
        "\n",
        "# Dodajemy legendę\n",
        "ax.legend()\n",
        "\n",
        "# Wyświetlamy wykres\n",
        "plt.show()"
      ],
      "metadata": {
        "colab": {
          "base_uri": "https://localhost:8080/",
          "height": 420
        },
        "id": "s_TjxtRGagzj",
        "outputId": "461572d3-5f94-4459-bcd2-65443327bfbb"
      },
      "execution_count": null,
      "outputs": [
        {
          "output_type": "display_data",
          "data": {
            "text/plain": [
              "<Figure size 640x480 with 1 Axes>"
            ],
            "image/png": "[encoded data removed]"
          },
          "metadata": {}
        }
      ]
    },
    {
      "cell_type": "markdown",
      "source": [
        "Długość iloczynu wektorowego jest polem równoległoboku rozpiętego na dwórch wektorach. Pole to można również obliczyć jako iloczyn długości dwóch wektórów i sinusa kąta między nimi. Dzięki temu można obliczyć sinus kąta między dwoma wektorami:\n",
        "$\\sin(\\theta) = \\frac{||\\mathbf{v} \\times \\mathbf{w}||}{||\\mathbf{v}|| \\cdot ||\\mathbf{w}||}$\n"
      ],
      "metadata": {
        "id": "fpr7PZlTc-nh"
      }
    },
    {
      "cell_type": "code",
      "source": [
        "def calculate_sine_angle(vector1, vector2):\n",
        "  cross_product = np.cross(vector1, vector2)\n",
        "  magnitude_cross_product = np.linalg.norm(cross_product)\n",
        "  magnitude_vector1 = np.linalg.norm(vector1)\n",
        "  magnitude_vector2 = np.linalg.norm(vector2)\n",
        "\n",
        "  if magnitude_vector1 == 0 or magnitude_vector2 == 0:\n",
        "    return 0\n",
        "\n",
        "  sine_angle = magnitude_cross_product / (magnitude_vector1 * magnitude_vector2)\n",
        "\n",
        "  return sine_angle\n",
        "\n",
        "vector1 = np.array([1, 2, 0])\n",
        "vector2 = np.array([3, 4, 0])\n",
        "\n",
        "sine_angle = calculate_sine_angle(vector1, vector2)\n",
        "\n",
        "print(sine_angle)\n"
      ],
      "metadata": {
        "colab": {
          "base_uri": "https://localhost:8080/"
        },
        "id": "S_VaJsj6fc4e",
        "outputId": "bc152709-9ee0-4a2b-8030-e3d67c7a28f2"
      },
      "execution_count": null,
      "outputs": [
        {
          "output_type": "stream",
          "name": "stdout",
          "text": [
            "0.17888543819998318\n"
          ]
        }
      ]
    },
    {
      "cell_type": "markdown",
      "source": [
        "**Liniowa zależność**"
      ],
      "metadata": {
        "id": "dhvxtV5Wf6_y"
      }
    },
    {
      "cell_type": "markdown",
      "source": [
        "Wektory są liniowo zależne, jeśli jeden z nich można przedstawić jako kombinację liniową pozostałych. Innymi słowy, istnieje taki zestaw skalarów (współczynników), że ich iloczyn z wektorami sumuje się do wektora zerowego, przy czym przynajmniej jeden ze skalarów jest różny od zera. Formalnie: wektory $v_1, v_2, ... v_n$ są liniowo zależne, jeśli $\\exists \\space a_1, a_2, ... a_n: a_1 \\cdot v_1 + a_2 \\cdot v_2 + ... + a_n * v_n = 0$ i przynajmniej jeden ze współczynników $a_1, a_2, ... a_n$ jest niezerowy"
      ],
      "metadata": {
        "id": "fHkrP277gslA"
      }
    },
    {
      "cell_type": "markdown",
      "source": [
        "**Zadanie 1.** Napisz program, który mając dane 3 wierzchołki trójkąta obliczy jego pole\n",
        "\n",
        "\n"
      ],
      "metadata": {
        "id": "P9_0kgIFkP4y"
      }
    },
    {
      "cell_type": "markdown",
      "source": [
        "**Zadanie 2.** Napisz program, który mając dane 2 wektory $\\mathbf{v}$ i $\\mathbf{w}$ sprawdzi, czy wektory te skręcają w lewo czy w prawo."
      ],
      "metadata": {
        "id": "JWbl31sKlH3Z"
      }
    },
    {
      "cell_type": "markdown",
      "source": [
        "**Zadanie 3.** Napisz program, który mając dany wektor n-wymiarowy zwróci krotkę zawierającą miary kątów, jakie wektor ten tworzy z poszczególnymi osiami."
      ],
      "metadata": {
        "id": "00p2eJImlEbo"
      }
    },
    {
      "cell_type": "markdown",
      "source": [
        "**Macierze**"
      ],
      "metadata": {
        "id": "896J83YxpYap"
      }
    },
    {
      "cell_type": "markdown",
      "source": [
        "Macierz to układ liczb, symboli lub wyrażeń zapisanych w postaci prostokątnej tablicy"
      ],
      "metadata": {
        "id": "UcCdKjBzpgx3"
      }
    },
    {
      "cell_type": "code",
      "source": [
        "matrix = np.array([[1, 0, 1], [2, 3, 4], [-1, 3, 2]])\n",
        "print(matrix) #Macierz o wymiarach 3x3"
      ],
      "metadata": {
        "colab": {
          "base_uri": "https://localhost:8080/"
        },
        "id": "CZVyFNm_plRb",
        "outputId": "b95e2ce5-3f53-489f-f68c-29ec557c41e3"
      },
      "execution_count": null,
      "outputs": [
        {
          "output_type": "stream",
          "name": "stdout",
          "text": [
            "[[ 1  0  1]\n",
            " [ 2  3  4]\n",
            " [-1  3  2]]\n"
          ]
        }
      ]
    },
    {
      "cell_type": "code",
      "source": [
        "matrix = np.array([[1, 2, 3, 4], [0, 9, 8, 7]])\n",
        "print(matrix) #Macierz o wymiarach 2x4"
      ],
      "metadata": {
        "colab": {
          "base_uri": "https://localhost:8080/"
        },
        "id": "SGpqagW5pvwd",
        "outputId": "c4260689-e387-4b40-d92e-f95abb88bc06"
      },
      "execution_count": null,
      "outputs": [
        {
          "output_type": "stream",
          "name": "stdout",
          "text": [
            "[[1 2 3 4]\n",
            " [0 9 8 7]]\n"
          ]
        }
      ]
    },
    {
      "cell_type": "markdown",
      "source": [
        "Dodawanie macierzy jest wykonalne dla macierzy o tych samych wymiarach. Polega ono na dodawaniu odpowiednich elementów (elementy o tych samych współrzędnych) dwóch macierzy.\n"
      ],
      "metadata": {
        "id": "7lWCoQcCqOiW"
      }
    },
    {
      "cell_type": "code",
      "source": [
        "m1 = np.array([[1, 0, 1], [5, 3, 4]])\n",
        "m2 = np.array([[3, 6, 9], [0, 2, 4]])\n",
        "\n",
        "m_sum = m1 + m2\n",
        "\n",
        "print(m_sum)"
      ],
      "metadata": {
        "colab": {
          "base_uri": "https://localhost:8080/"
        },
        "id": "a2PG7oDDqeO1",
        "outputId": "dfd420b4-672a-4842-8a03-f3bb0a4cdbab"
      },
      "execution_count": null,
      "outputs": [
        {
          "output_type": "stream",
          "name": "stdout",
          "text": [
            "[[ 4  6 10]\n",
            " [ 5  5  8]]\n"
          ]
        }
      ]
    },
    {
      "cell_type": "markdown",
      "source": [
        "W Pythonie domyślnie mnożenie macierzy odbywa się poprzez pomnożenie poszczególnych elementów ze sobą. Takie mnożenie jest oczywiście przemienne."
      ],
      "metadata": {
        "id": "eT8yatketFQz"
      }
    },
    {
      "cell_type": "code",
      "source": [
        "m1 = np.array([[1, 0, 1], [5, 3, 4]])\n",
        "m2 = np.array([[3, 6, 9], [0, 2, 4]])\n",
        "\n",
        "m_mul = m1 * m2 #Macierze muszą być tych samych rozmiarów\n",
        "\n",
        "print(m_mul)"
      ],
      "metadata": {
        "colab": {
          "base_uri": "https://localhost:8080/"
        },
        "id": "votLbGHDtOgW",
        "outputId": "e57e972e-ae6a-4af3-e212-3b04b1a694ca"
      },
      "execution_count": null,
      "outputs": [
        {
          "output_type": "stream",
          "name": "stdout",
          "text": [
            "[[ 3  0  9]\n",
            " [ 0  6 16]]\n"
          ]
        }
      ]
    },
    {
      "cell_type": "markdown",
      "source": [
        "Matematyczne mnożenie macierzy wygląda jednak nieco inaczej i wymaga tego, żeby szerokość pierwszego czynnika i wysokość drugiego były takie same"
      ],
      "metadata": {
        "id": "9ZfiSKDZuLt9"
      }
    },
    {
      "cell_type": "code",
      "source": [
        "import numpy as np\n",
        "\n",
        "matrix1 = np.array([[1, 2, 3], [4, 5, 6]])\n",
        "matrix2 = np.array([[5, 6], [7, 8], [9, 0]])\n",
        "\n",
        "result_matrix = np.dot(matrix1, matrix2)\n",
        "\n",
        "print(result_matrix)\n"
      ],
      "metadata": {
        "colab": {
          "base_uri": "https://localhost:8080/"
        },
        "id": "A82AQujiuVPC",
        "outputId": "2a89279e-5a22-4228-d13a-4515c6220921"
      },
      "execution_count": null,
      "outputs": [
        {
          "output_type": "stream",
          "name": "stdout",
          "text": [
            "[[ 46  22]\n",
            " [109  64]]\n"
          ]
        }
      ]
    },
    {
      "cell_type": "markdown",
      "source": [
        "Takie mnożenie nie jest przemienne"
      ],
      "metadata": {
        "id": "FFwnLRFPuoUw"
      }
    },
    {
      "cell_type": "code",
      "source": [
        "import numpy as np\n",
        "\n",
        "matrix1 = np.array([[1, 2, 3], [4, 5, 6]])\n",
        "matrix2 = np.array([[5, 6], [7, 8], [9, 0]])\n",
        "\n",
        "result1 = np.dot(matrix1, matrix2)\n",
        "result2 = np.dot(matrix2, matrix1)\n",
        "\n",
        "print(result1, end=\"\\n\\n\")\n",
        "print(result2)"
      ],
      "metadata": {
        "colab": {
          "base_uri": "https://localhost:8080/"
        },
        "id": "PCbMU8F1uq26",
        "outputId": "2adbb840-3247-47e9-834d-46b408b3d0a0"
      },
      "execution_count": null,
      "outputs": [
        {
          "output_type": "stream",
          "name": "stdout",
          "text": [
            "[[ 46  22]\n",
            " [109  64]]\n",
            "\n",
            "[[29 40 51]\n",
            " [39 54 69]\n",
            " [ 9 18 27]]\n"
          ]
        }
      ]
    },
    {
      "cell_type": "markdown",
      "source": [
        "**Macierz jednostkowa** - macierz składająca się z samych zer poza przekątną, gdzie są jedynki. Ta macierz jest neutralna względem mnożenia i oznaczamy ją jako $I$."
      ],
      "metadata": {
        "id": "vNt_S1oN5EP7"
      }
    },
    {
      "cell_type": "code",
      "source": [
        "i = np.array([[1, 0, 0], [0, 1, 0], [0, 0, 1]])\n",
        "m = np.array([[1, 2, 3], [4, 5, 6], [7, 8, 9]])\n",
        "\n",
        "result = np.dot(m, i)\n",
        "\n",
        "print(result)\n"
      ],
      "metadata": {
        "colab": {
          "base_uri": "https://localhost:8080/"
        },
        "id": "d4u65BSu5OU3",
        "outputId": "6a44974a-e4ae-4fc0-a192-653955526342"
      },
      "execution_count": null,
      "outputs": [
        {
          "output_type": "stream",
          "name": "stdout",
          "text": [
            "[[1 2 3]\n",
            " [4 5 6]\n",
            " [7 8 9]]\n"
          ]
        }
      ]
    },
    {
      "cell_type": "markdown",
      "source": [
        "**Mnożenie macierzy i wektora** - warto zauważyć, że wektor jest również macierzą, której jeden z wymiarów to 1, dlatego poprawnym jest również mnożenie wektora i macierzy, w wyniku czego również dostajemy wektor."
      ],
      "metadata": {
        "id": "vqDRF5UM_7dR"
      }
    },
    {
      "cell_type": "code",
      "source": [
        "import numpy as np\n",
        "\n",
        "vector = np.array([1, 2, 3])\n",
        "\n",
        "matrix = np.array([[1, 0, 1], [2, 3, 4], [-1, 3, 2]])\n",
        "\n",
        "result = np.dot(matrix, vector)\n",
        "\n",
        "print(result)"
      ],
      "metadata": {
        "colab": {
          "base_uri": "https://localhost:8080/"
        },
        "id": "B68geuka_8MI",
        "outputId": "bb070f4c-4b74-45f0-bdf4-9bd0143c5940"
      },
      "execution_count": null,
      "outputs": [
        {
          "output_type": "stream",
          "name": "stdout",
          "text": [
            "[ 4 20 11]\n"
          ]
        }
      ]
    },
    {
      "cell_type": "markdown",
      "source": [
        "**Wyzncznik macierzy** - najprościej zdefiniować go za pomocą rozwinięcia Laplace'a: Jest to liczba która jest własnością każdej kwadratowej macierzy. Jeśli $n = 1$, to $\\det(A)=A_{11}$. Jeśli $n > 1$, to $\\det(A) = \\sum_{j=1}^n (-1)^{i+j} a_{ij} M_{ij}$, gdzie i jest dowolną liczbą naturalną z przedziału $[1, n]$."
      ],
      "metadata": {
        "id": "V_FS-efpyD5p"
      }
    },
    {
      "cell_type": "code",
      "source": [
        "import numpy as np\n",
        "\n",
        "def determinant_laplace(matrix):\n",
        "  n = len(matrix)\n",
        "\n",
        "  if n == 1:\n",
        "    return matrix[0][0]\n",
        "  elif n == 2:\n",
        "    return matrix[0][0] * matrix[1][1] - matrix[0][1] * matrix[1][0]\n",
        "  else:\n",
        "    det = 0\n",
        "    for j in range(n):\n",
        "      submatrix = []\n",
        "      for row in range(1, n):\n",
        "        new_row = []\n",
        "        for col in range(n):\n",
        "          if col != j:\n",
        "            new_row.append(matrix[row][col])\n",
        "        submatrix.append(new_row)\n",
        "      det += (-1)**(0 + j) * matrix[0][j] * determinant_laplace(submatrix)\n",
        "    return det\n",
        "\n",
        "matrix = [[1, 2, 3], [4, 5, 6], [7, 8, -1]]\n",
        "det = determinant_laplace(matrix)\n",
        "print(\"Laplace det\", det)\n",
        "\n",
        "matrix_np = np.array(matrix)\n",
        "det_np = np.linalg.det(matrix_np)\n",
        "print(\"NumPy det:\", det_np)\n"
      ],
      "metadata": {
        "colab": {
          "base_uri": "https://localhost:8080/"
        },
        "id": "gVxM9E8R2NSw",
        "outputId": "485704d3-7143-4ed1-a6df-9e6018d547af"
      },
      "execution_count": null,
      "outputs": [
        {
          "output_type": "stream",
          "name": "stdout",
          "text": [
            "Laplace det 30\n",
            "NumPy det: 29.99999999999999\n"
          ]
        }
      ]
    },
    {
      "cell_type": "markdown",
      "source": [
        "**Macierz odwrotna** - jeżeli dana jest macierz $A$, której wyznacznik jest różny od 0, to istnieje macierz $A^{-1}$, oraz $A \\cdot A^{-1} = I$."
      ],
      "metadata": {
        "id": "aic9OLZ86UMB"
      }
    },
    {
      "cell_type": "code",
      "source": [
        "# prompt: write a python code to generate the inverse of a matrix by hand and using built in functions\n",
        "\n",
        "def inverse_matrix_by_hand(matrix):\n",
        "  n = len(matrix)\n",
        "  if n != len(matrix[0]):\n",
        "    raise ValueError(\"Matrix must be square\")\n",
        "\n",
        "  determinant = np.linalg.det(matrix)\n",
        "  if determinant == 0:\n",
        "    return None\n",
        "\n",
        "  cofactor_matrix = np.zeros((n, n))\n",
        "  for i in range(n):\n",
        "    for j in range(n):\n",
        "      minor_matrix = np.delete(np.delete(matrix, i, axis=0), j, axis=1)\n",
        "      cofactor_matrix[i][j] = ((-1)**(i + j)) * np.linalg.det(minor_matrix)\n",
        "\n",
        "  adjugate_matrix = cofactor_matrix.transpose()\n",
        "  inverse_matrix = (1 / determinant) * adjugate_matrix\n",
        "\n",
        "  return inverse_matrix\n",
        "\n",
        "matrix = np.array([[1, 2], [3, 4]])\n",
        "\n",
        "inverse_matrix_manual = inverse_matrix_by_hand(matrix)\n",
        "print(\"Inverse Matrix (by hand):\\n\", inverse_matrix_manual)\n",
        "\n",
        "inverse_matrix_builtin = np.linalg.inv(matrix)\n",
        "print(\"\\nInverse Matrix (built-in):\\n\", inverse_matrix_builtin)\n"
      ],
      "metadata": {
        "colab": {
          "base_uri": "https://localhost:8080/"
        },
        "id": "s7h2LtcM63l8",
        "outputId": "c76d3870-da06-4663-d125-0385927f66a6"
      },
      "execution_count": null,
      "outputs": [
        {
          "output_type": "stream",
          "name": "stdout",
          "text": [
            "Inverse Matrix (by hand):\n",
            " [[-2.   1. ]\n",
            " [ 1.5 -0.5]]\n",
            "\n",
            "Inverse Matrix (built-in):\n",
            " [[-2.   1. ]\n",
            " [ 1.5 -0.5]]\n"
          ]
        }
      ]
    },
    {
      "cell_type": "markdown",
      "source": [
        "**Zadanie 4.** Napisz program, który oblicza dowony wyraz ciągu Fibonacciego."
      ],
      "metadata": {
        "id": "-OUwtYAA9JzC"
      }
    },
    {
      "cell_type": "markdown",
      "source": [
        "**Zadanie 5.** Napisz program, który przyjmuje listę n n-wymiarowych wektorów i sprawdza, czy są one liniowo niezależne.\n"
      ],
      "metadata": {
        "id": "XfDeqt759kpk"
      }
    },
    {
      "cell_type": "markdown",
      "source": [
        "**Zadanie 6.** Napisz program, który rozwiązuje układ dwóch równań w postaci:\n",
        "$\\begin{cases}\n",
        "ax + by = c \\\\\n",
        "dx + ey = f\n",
        "\\end{cases}$ i jako odpowiedź zwraca:\n",
        "1. W przypadku jednego rozwiązania parę $(x, y)$, która spełnia uklad\n",
        "2. W przypadku braku rozwiązań obiekt *None*\n",
        "3. W przypadku nieskończonej liczby rozwiązań równanie prostej, która je zawiera. Równanie powinno być w postaci ogólnej.\n"
      ],
      "metadata": {
        "id": "mPp1Vlsi9lgE"
      }
    },
    {
      "cell_type": "markdown",
      "source": [
        "**Tensory** - uogulnienie macierzy i wektora na większą liczbę wymiarów"
      ],
      "metadata": {
        "id": "hIy3et7uAUTo"
      }
    },
    {
      "cell_type": "markdown",
      "source": [
        "Do przykładowych zastosowań należy np reprezentacja zdjęcia (pierwszy i drugi wymiar to siatka pikseli a trzeci wymiar to kolory r, g oraz b)"
      ],
      "metadata": {
        "id": "92VuW8crWdOc"
      }
    },
    {
      "cell_type": "code",
      "source": [
        "import numpy as np\n",
        "\n",
        "tensor_3d = np.array([\n",
        "    [[1, 2, 3, 4], [5, 6, 7, 8], [9, 10, 11, 12]],\n",
        "    [[13, 14, 15, 16], [17, 18, 19, 20], [21, 22, 23, 24]]\n",
        "])\n",
        "\n",
        "print(tensor_3d)\n",
        "print(\"shape:\", tensor_3d.shape)\n"
      ],
      "metadata": {
        "colab": {
          "base_uri": "https://localhost:8080/"
        },
        "id": "Vh_ZDHiJWpnb",
        "outputId": "e626f5a5-94a9-404a-f53a-0d5c1b2fda76"
      },
      "execution_count": null,
      "outputs": [
        {
          "output_type": "stream",
          "name": "stdout",
          "text": [
            "[[[ 1  2  3  4]\n",
            "  [ 5  6  7  8]\n",
            "  [ 9 10 11 12]]\n",
            "\n",
            " [[13 14 15 16]\n",
            "  [17 18 19 20]\n",
            "  [21 22 23 24]]]\n",
            "shape: (2, 3, 4)\n"
          ]
        }
      ]
    },
    {
      "cell_type": "markdown",
      "source": [
        "Gradient - jest to wektor wskazujący kierunek najszybszego wzrostu, którego długość jest równa wzrostowi na jedną jednostkę długości."
      ],
      "metadata": {
        "id": "kwe5mH9sXb0l"
      }
    },
    {
      "cell_type": "code",
      "source": [
        "import numpy as np\n",
        "\n",
        "tensor = np.array([\n",
        "    [[1, 2, 3], [4, 5, 6], [7, 8, 9]],\n",
        "    [[10, 11, 12], [13, 14, 15], [16, 17, 18]],\n",
        "    [[19, 20, 21], [22, 23, 24], [25, 26, 27]]\n",
        "])\n",
        "\n",
        "gradient = np.gradient(tensor)\n",
        "\n",
        "print(gradient)"
      ],
      "metadata": {
        "colab": {
          "base_uri": "https://localhost:8080/"
        },
        "id": "O0XlcX2GXlFR",
        "outputId": "ba680165-bed7-451a-e8ed-8fa577149095"
      },
      "execution_count": null,
      "outputs": [
        {
          "output_type": "stream",
          "name": "stdout",
          "text": [
            "(array([[[9., 9., 9.],\n",
            "        [9., 9., 9.],\n",
            "        [9., 9., 9.]],\n",
            "\n",
            "       [[9., 9., 9.],\n",
            "        [9., 9., 9.],\n",
            "        [9., 9., 9.]],\n",
            "\n",
            "       [[9., 9., 9.],\n",
            "        [9., 9., 9.],\n",
            "        [9., 9., 9.]]]), array([[[3., 3., 3.],\n",
            "        [3., 3., 3.],\n",
            "        [3., 3., 3.]],\n",
            "\n",
            "       [[3., 3., 3.],\n",
            "        [3., 3., 3.],\n",
            "        [3., 3., 3.]],\n",
            "\n",
            "       [[3., 3., 3.],\n",
            "        [3., 3., 3.],\n",
            "        [3., 3., 3.]]]), array([[[1., 1., 1.],\n",
            "        [1., 1., 1.],\n",
            "        [1., 1., 1.]],\n",
            "\n",
            "       [[1., 1., 1.],\n",
            "        [1., 1., 1.],\n",
            "        [1., 1., 1.]],\n",
            "\n",
            "       [[1., 1., 1.],\n",
            "        [1., 1., 1.],\n",
            "        [1., 1., 1.]]]))\n"
          ]
        }
      ]
    },
    {
      "cell_type": "markdown",
      "source": [
        "**Zadanie 7.** wczytaj zdjęcie w formacie PNG do tensora (2 wymiary i trzeci na kolory r, g, b), a następnie odwróć kolory. Zdjęcie zapisz ponownie w formacie PNG w nowym pliku."
      ],
      "metadata": {
        "id": "RyxN--gNlLIv"
      }
    }
  ]
}