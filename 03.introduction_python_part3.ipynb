{
 "cells": [
  {
   "cell_type": "markdown",
   "metadata": {},
   "source": [
    "## Lab 3: Hello Python!\n",
    "\n",
    "Spis treści:\n",
    "1. Funkcje cd"
   ]
  },
  {
   "cell_type": "markdown",
   "metadata": {},
   "source": [
    "Zad.1. Napisz funkcję, która oblicza sumę liczb od 1 do $n$ na dwa różne sposoby.\n",
    "Jakie są inne sposoby obliczenia takiej sumy? \n",
    "Która z zaimplementowanych metod jest najszybsza? Która zużywa najmniej pamięci? Jakie są zalety i wady każdego podejścia?\n",
    "Jak upewnić się, że funkcja zwraca poprawne wyniki?"
   ]
  },
  {
   "cell_type": "code",
   "execution_count": null,
   "metadata": {},
   "outputs": [],
   "source": [
    "# your code"
   ]
  },
  {
   "cell_type": "markdown",
   "metadata": {},
   "source": [
    "Zad.2. Napisz funkcję, która dla podanych trzech parametrów: $n$ (numer elementu ciągu), $a_1$ (wartość pierwszego elementu ciągu - domyślnie 1), $q$ (wartość ilorazu ciągu geometrycznego - domyślnie 2) zwróci $n$-ty element ciągu geometrycznego."
   ]
  },
  {
   "cell_type": "code",
   "execution_count": null,
   "metadata": {},
   "outputs": [],
   "source": [
    "# your code"
   ]
  },
  {
   "cell_type": "markdown",
   "metadata": {},
   "source": [
    "Zad.3. Napisz funkcję `oblicz_pole(figura, *wymiary)`, która przyjmuje nazwę figury (\"kwadrat\", \"prostokąt\", \"koło\") oraz jej wymiary. Funkcja powinna zwracać pole danej figury.\n",
    "Jakie wymiary są wymagane dla każdej figury?\n",
    "Co jeśli użytkownik poda zbyt wiele lub za mało parametrów?\n",
    "Czy dopuszczamy wartości ujemne? Jak wtedy powinna zachować się funkcja?\n",
    "\n",
    "Jak zmodyfikować tą funkcję, aby zwracała róznież obwód figury, jeśli użytkownik tego zażąda?"
   ]
  },
  {
   "cell_type": "code",
   "execution_count": null,
   "metadata": {},
   "outputs": [],
   "source": [
    "# your code"
   ]
  },
  {
   "cell_type": "markdown",
   "metadata": {},
   "source": [
    "Zad. 4. Napisz funkcję `czy_liczba_pierwsza(n)`, która sprawdza, czy liczba $n$ jest liczbą pierwszą. Funkcja powinna zwracać `True`, jeśli liczba jest pierwsza, lub `False` w przeciwnym przypadku."
   ]
  },
  {
   "cell_type": "code",
   "execution_count": null,
   "metadata": {},
   "outputs": [],
   "source": [
    "# your code"
   ]
  },
  {
   "cell_type": "markdown",
   "metadata": {},
   "source": [
    "Zad. 5. Napisz funkcję, która przyjmuje listę liczb i zwraca wszystkie możliwe permutacje tej listy. Nie używaj itertools.permutations."
   ]
  },
  {
   "cell_type": "code",
   "execution_count": null,
   "metadata": {},
   "outputs": [],
   "source": [
    "# your code"
   ]
  },
  {
   "cell_type": "markdown",
   "metadata": {},
   "source": [
    "Zad 6. Napisz funkcję, która oblicza wyznacznik kwadratowej macierzy (determinant) przy użyciu:\n",
    "1. rozwinięcia Laplace’a,\n",
    "2. eliminacji Gaussa (rozkład macierzy na iloczyn macierzy trójkątnej dolnej i trójkątnej górnej),\n",
    "3. funkcji `det`.\n",
    "Przedstaw porównanie metod pod względem złożoności czasowej i wyników dla przykładowych macierzy rozmiarów: $2 \\times 2$ i $200 \\times 200$. "
   ]
  },
  {
   "cell_type": "code",
   "execution_count": null,
   "metadata": {},
   "outputs": [],
   "source": [
    "# your code"
   ]
  },
  {
   "cell_type": "markdown",
   "metadata": {},
   "source": [
    "Zad 7. Napisz funkcję, która zwróci wszystkie podzbiory danego zbioru. "
   ]
  },
  {
   "cell_type": "code",
   "execution_count": null,
   "metadata": {},
   "outputs": [],
   "source": [
    "# your code"
   ]
  }
 ],
 "metadata": {
  "kernelspec": {
   "display_name": "ml",
   "language": "python",
   "name": "python3"
  },
  "language_info": {
   "codemirror_mode": {
    "name": "ipython",
    "version": 3
   },
   "file_extension": ".py",
   "mimetype": "text/x-python",
   "name": "python",
   "nbconvert_exporter": "python",
   "pygments_lexer": "ipython3",
   "version": "3.10.13"
  }
 },
 "nbformat": 4,
 "nbformat_minor": 2
}
