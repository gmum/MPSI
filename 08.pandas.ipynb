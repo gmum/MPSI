{
 "cells": [
  {
   "cell_type": "markdown",
   "metadata": {},
   "source": [
    "## Lab 8: pandas "
   ]
  },
  {
   "cell_type": "markdown",
   "metadata": {},
   "source": [
    "Zad. 1. Dany jest zbiór danych `experiment_results.csv`, który zawiera wyniki eksperymentów. Wczytaj dane do `DataFrame` i wykonaj następujące operacje:\n",
    "\n",
    "1. Sprawdź, ile jest brakujących wartości w każdej kolumnie i uzupełnij je odpowiednią metodą (np. średnią lub medianą, jeśli to wartości liczbowe).\n",
    "2. Usuń duplikaty.\n",
    "3. Przekształć kolumnę `timestamp` na format `datetime` i utwórz nową kolumnę `hour`, zawierającą tylko godzinę przeprowadzenia eksperymentu.\n",
    "4. Zapisz oczyszczony zbiór danych do nowego pliku CSV."
   ]
  },
  {
   "cell_type": "code",
   "execution_count": null,
   "metadata": {},
   "outputs": [],
   "source": [
    "# your code"
   ]
  },
  {
   "cell_type": "markdown",
   "metadata": {},
   "source": [
    "Zad. 2. Dany jest `DataFrame` `df` z wynikami testów różnych algorytmów. Każdy wiersz reprezentuje wynik jednego uruchomienia modelu i zawiera kolumny:\n",
    "\n",
    "- `algorithm`: nazwa algorytmu\n",
    "\n",
    "- `accuracy`: dokładność\n",
    "\n",
    "- `precision`: swoistość\n",
    "\n",
    "- `recall`: czułość\n",
    "\n",
    "Oblicz podstawowe statystyki opisowe dla każdej metryki (accuracy, precision, recall). Porównaj wyniki dla różnych algorytmów odpowiadając na pytania:\n",
    "- Który algorytm ma najwyższą średnią dokładność?\n",
    "- Który algorytm ma najmniejszą zmienność wyników (odchylenie standardowe)?"
   ]
  },
  {
   "cell_type": "code",
   "execution_count": null,
   "metadata": {},
   "outputs": [],
   "source": [
    "# your code"
   ]
  },
  {
   "cell_type": "markdown",
   "metadata": {},
   "source": [
    "Zad. 3. Masz dane o wydajności modeli ML w różnych dniach (`performance_logs.csv`) z kolumnami:\n",
    "\n",
    "- `date`: data przeprowadzenia testu\n",
    "\n",
    "- `model_name`: nazwa modelu\n",
    "\n",
    "- `accuracy`: dokładność\n",
    "\n",
    "Pogrupuj dane po miesiącach i oblicz średnią dokładność dla każdego miesiąca. Znajdź model, którego dokładność zmieniała się najbardziej w czasie (największa różnica między max i min). Zilustruj accuracy wybranego modelu na wykresie.\n",
    "\n"
   ]
  },
  {
   "cell_type": "code",
   "execution_count": null,
   "metadata": {},
   "outputs": [],
   "source": [
    "# your code"
   ]
  },
  {
   "cell_type": "markdown",
   "metadata": {},
   "source": [
    "Zad. 4. Masz dwa pliki CSV: `experiments_2024.csv` (zawierający wyniki eksperymentów przeprowadzonych w 2024 roku) i `experiments_metadata.csv` (zawierający dodatkowe informacje o eksperymentach, np. typ danych wejściowych, wersję modelu itp.)\n",
    "\n",
    "Wczytaj oba pliki i połącz je na podstawie kolumny `experiment_id`. Znajdź eksperymenty, w których użyto wersji modelu v2.0, i oblicz średnią dokładność(accuracy) tych eksperymentów. Sprawdź, czy istnieje związek między typem danych wejściowych a dokładnością modeli."
   ]
  },
  {
   "cell_type": "code",
   "execution_count": null,
   "metadata": {},
   "outputs": [],
   "source": [
    "# your code"
   ]
  }
 ],
 "metadata": {
  "kernelspec": {
   "display_name": "ml",
   "language": "python",
   "name": "python3"
  },
  "language_info": {
   "codemirror_mode": {
    "name": "ipython",
    "version": 3
   },
   "file_extension": ".py",
   "mimetype": "text/x-python",
   "name": "python",
   "nbconvert_exporter": "python",
   "pygments_lexer": "ipython3",
   "version": "3.10.13"
  }
 },
 "nbformat": 4,
 "nbformat_minor": 2
}
