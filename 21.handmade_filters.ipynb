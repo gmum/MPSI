{
 "cells": [
  {
   "cell_type": "markdown",
   "metadata": {},
   "source": [
    "## Filtry do wykrywania cech z obrazu"
   ]
  },
  {
   "cell_type": "markdown",
   "metadata": {},
   "source": [
    "Zadanie 1. Zbuduj pipeline, który będzie wykrywał blond włosy na zbiorze CelebA, korzystając wyłącznie z:\n",
    "\n",
    "- ręcznie zaprojektowanych filtrów,\n",
    "\n",
    "- prostych operacji logicznych/statystycznych,\n",
    "\n",
    "- perceptronu uczonego **niegradientowo**.\n",
    "\n",
    "Zbiór danych CelebA można załadować używając biblioteki ```torchvision```:\n",
    "```\n",
    "torchvision.datasets.CelebA(...)\n",
    "```\n",
    "W zadaniu należy użyć tylko jednej etykiety binarnej Blond_Hair (0/1). Pipeline powinien obejmować następujące etapy:\n",
    "1. Załadowanie zbioru i jego wstępne przetworzenie. \n",
    "2. Projektowanie filtrów. \n",
    "3. Ekstrakcja cech za pomocą zaprojektowanych filtrów.\n",
    "4. Użycie perceptronu i wyliczenie Accuracy i Confusion Matrix. \n",
    "5. Wizualizacja przykładowych obrazów, które zostały sklasyfikowane poprawnie oraz niepoprawnie zarówno przed (originalne zdj) zastosowaniem filtrów jak i po zastosowaniu zbudowanych filtrów. "
   ]
  },
  {
   "cell_type": "code",
   "execution_count": null,
   "metadata": {},
   "outputs": [],
   "source": [
    "# your code"
   ]
  }
 ],
 "metadata": {
  "language_info": {
   "name": "python"
  }
 },
 "nbformat": 4,
 "nbformat_minor": 2
}
