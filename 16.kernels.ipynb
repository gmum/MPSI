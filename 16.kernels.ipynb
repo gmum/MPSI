{
 "cells": [
  {
   "cell_type": "code",
   "execution_count": null,
   "metadata": {},
   "outputs": [],
   "source": [
    "import numpy as np\n",
    "import matplotlib.pyplot as plt\n",
    "from sklearn.datasets import make_circles, make_moons, make_classification\n",
    "from sklearn.svm import SVC\n",
    "from sklearn.preprocessing import StandardScaler\n",
    "from sklearn.pipeline import Pipeline"
   ]
  },
  {
   "cell_type": "markdown",
   "metadata": {},
   "source": [
    "## Kernel Methods in Machine Learning"
   ]
  },
  {
   "cell_type": "markdown",
   "metadata": {},
   "source": [
    "Zadanie 1: \n",
    "Zaimplementuj klasyczny perceptron bez użycia kernelu. (Można wykorzystać kod z poprzednich zajęć). Dodaj obsługę kernela (np. liniowego, RBF lub wielomianowego). Przetestuj perceptron na danych nieliniowo separowalnych (np. zbiór \"moons\" z biblioteki sklearn). Porównaj wyniki klasyfikacji perceptronu bez kernelu i z kernelem. Jakie wnioski można wyciągnąć?"
   ]
  },
  {
   "cell_type": "code",
   "execution_count": null,
   "metadata": {},
   "outputs": [],
   "source": [
    "# your code"
   ]
  },
  {
   "cell_type": "markdown",
   "metadata": {},
   "source": [
    "Zadanie 2: \n",
    "Wygeneruj przykładowe dane nieliniowe (np. zbiór \"circles\" lub \"moons\"). Zaimplementuj wybrane 3 funkcje kernelowe.\n",
    "Zastosuj każdy z zaimplementowanych kernelów na danych przy użyciu SVM z biblioteki sklearn. Zwizualizuj wyniki klasyfikacji oraz granice decyzyjne dla każdego kernela. Zinterpretuj uzyskane wyniki."
   ]
  },
  {
   "cell_type": "code",
   "execution_count": null,
   "metadata": {},
   "outputs": [],
   "source": [
    "# your code"
   ]
  },
  {
   "cell_type": "markdown",
   "metadata": {},
   "source": [
    "Zadanie 3. \n",
    "Zaimplementuj kernel następującej postaci:\n",
    "\n",
    "$$\n",
    "K(x, y) = \\exp(-\\gamma \\|x - y\\|^2) \\cdot \\cos(\\alpha \\|x - y\\|)\n",
    "$$\n",
    "Następnie wykorzystaj ten kernel w klasyfikatorze SVM. Porównaj wyniki klasyfikacji z klasycznymi kernelami (liniowym i RBF).\n",
    "W jaki sposób zmiana parametrów zadanego kernela wpływa na jakość klasyfikacji?"
   ]
  },
  {
   "cell_type": "code",
   "execution_count": null,
   "metadata": {},
   "outputs": [],
   "source": [
    "# your code"
   ]
  },
  {
   "cell_type": "markdown",
   "metadata": {},
   "source": [
    "Zadanie 4: \n",
    "Wykorzystaj SVM z sklearn i zastąp domyślny kernel **własną** funkcją jądra. Przedstaw intuicję, jaka stoi za jego wzorem. \n",
    "Przeprowadź eksperyment na danych liniowo i nieliniowo separowalnych.\n",
    "\n",
    "**Uwaga** Zadbaj o unikalność swojego kernela (kernele pozostałych studentów powinny być nietrywialnie różne) "
   ]
  },
  {
   "cell_type": "code",
   "execution_count": null,
   "metadata": {},
   "outputs": [],
   "source": [
    "# your code"
   ]
  }
 ],
 "metadata": {
  "kernelspec": {
   "display_name": "ml",
   "language": "python",
   "name": "python3"
  },
  "language_info": {
   "name": "python",
   "version": "3.10.13"
  }
 },
 "nbformat": 4,
 "nbformat_minor": 2
}
