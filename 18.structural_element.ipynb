{
 "cells": [
  {
   "cell_type": "markdown",
   "metadata": {},
   "source": [
    "# Elementy strukturalne - Python + lista zadań tablicowych \n",
    "Zadania 1-4 przeznaczone są do implementacji w pythonie, natomiast zadania 5-8 do rozwiązania bez użycia komputera - na tablicy. Wymagają zrozumienia działania elementu strukturalnego oraz podstawowych operacji morfologicznych w przetwarzaniu obrazów binarnych.\n"
   ]
  },
  {
   "cell_type": "markdown",
   "metadata": {},
   "source": [
    "#### Zadanie 1\n",
    "1. Wczytaj obraz binarny zawierający obiekty (np. litery, znaki).\n",
    "2. Zastosuj operację **erozji** z trzema różnymi kształtami elementu strukturalnego:\n",
    "   - `cv2.MORPH_RECT`\n",
    "   - `cv2.MORPH_ELLIPSE`\n",
    "   - `cv2.MORPH_CROSS`\n",
    "3. Wszystkie SE powinny mieć ten sam rozmiar, np. 9×9.\n",
    "4. Wyświetl obrazy obok siebie i opisz różnice w zachowaniu filtrów.\n"
   ]
  },
  {
   "cell_type": "code",
   "execution_count": null,
   "metadata": {},
   "outputs": [],
   "source": [
    "# your code "
   ]
  },
  {
   "cell_type": "markdown",
   "metadata": {},
   "source": [
    "#### Zadanie 2\n",
    "\n",
    "1. Wczytaj binarny obraz z obiektami zawierającymi dziury (np. cyfry 0, 6, 9).\n",
    "2. Zastosuj operację **domknięcia (closing)** z SE o różnych rozmiarach (np. od 3×3 do 21×21).\n",
    "3. Zaimplementuj funkcję, która znajdzie minimalny rozmiar SE, który pozwala wypełnić wszystkie dziury w obiektach.\n",
    "4. Wyświetl obraz po przetworzeniu i zaznacz, jaki rozmiar SE został użyty.\n"
   ]
  },
  {
   "cell_type": "code",
   "execution_count": null,
   "metadata": {},
   "outputs": [],
   "source": [
    "# your code "
   ]
  },
  {
   "cell_type": "markdown",
   "metadata": {},
   "source": [
    "#### Zadanie 3:\n",
    "\n",
    "1. Wczytaj obraz binarny z tekstem (np. skan strony lub paragrafu).\n",
    "2. Użyj SE w poziomie (np. 30×1) do erozji, by oddzielić **linie tekstu**.\n",
    "3. Następnie użyj SE w pionie (np. 1×15) do erozji, by oddzielić **słowa**.\n",
    "4. Znajdź kontury słów i linii i zaznacz je prostokątami.\n",
    "5. Wyświetl obraz z zaznaczonymi obiektami.\n"
   ]
  },
  {
   "cell_type": "code",
   "execution_count": null,
   "metadata": {},
   "outputs": [],
   "source": [
    "# your code "
   ]
  },
  {
   "cell_type": "markdown",
   "metadata": {},
   "source": [
    "#### Zadanie 4\n",
    "Zdefiniuj własny element strukturalny jako macierz numpy – np. ukośną linię. Przetestuj jego działanie na wybranym obrazie. "
   ]
  },
  {
   "cell_type": "code",
   "execution_count": null,
   "metadata": {},
   "outputs": [],
   "source": [
    "# your code "
   ]
  },
  {
   "cell_type": "markdown",
   "metadata": {},
   "source": [
    "#### Zadanie 5\n",
    "\n",
    "Dany jest obraz binarny `A` (0 – tło, 1 – obiekt):\n",
    "```\n",
    "A =\n",
    "0 1 1 0 0 \n",
    "1 1 1 1 0 \n",
    "0 1 1 1 1 \n",
    "0 0 1 1 0 \n",
    "```\n",
    "\n",
    "Oraz element strukturalny `SE` o rozmiarze 2×2:\n",
    "```\n",
    "SE =\n",
    "1 1\n",
    "1 1\n",
    "```\n",
    "\n",
    "1. Wykonaj **erozję** obrazu A z elementem SE.\n",
    "2. Wykonaj **dylację** obrazu A z tym samym SE.\n",
    "3. Załóż zerowe obramowanie (piksele spoza obrazu to 0).\n",
    "4. Wyniki zapisz jako nowe macierze 0/1.\n"
   ]
  },
  {
   "cell_type": "markdown",
   "metadata": {},
   "source": [
    "#### Zadanie 6\n",
    "\n",
    "Dany jest obraz wejściowy i obraz po przetworzeniu (przykład):\n",
    "\n",
    "```\n",
    "Obraz wejściowy:\n",
    "0 0 1 1 1 0\n",
    "0 1 1 1 1 1\n",
    "0 1 1 1 1 0\n",
    "0 0 1 1 0 0\n",
    "\n",
    "Obraz po operacji:\n",
    "0 0 1 1 1 0\n",
    "0 0 0 0 0 0\n",
    "0 0 0 0 0 0\n",
    "0 0 1 1 0 0\n",
    "```\n",
    "\n",
    "Jaka operacja została zastosowana: erozja, dylacja, otwarcie, czy domknięcie? Uzasadnij odpowiedź na podstawie zmian w obrazie.\n"
   ]
  },
  {
   "cell_type": "markdown",
   "metadata": {},
   "source": [
    "#### Zadanie 7\n",
    "\n",
    "Zaprojektuj element strukturalny do każdego z poniższych zadań:\n",
    "\n",
    "a) **Usuń poziome linie o długości dokładnie 5 pikseli**, pozostawiając pionowe.  \n",
    "b) **Zostaw tylko pionowe linie** z obrazu.  \n",
    "c) **Wypełnij dziury** w okrągłych obiektach.\n",
    "\n",
    "**Dla każdego przypadku:**\n",
    "- Narysuj SE jako siatkę 0/1.\n",
    "- Określ jego rozmiar.\n",
    "- Uzasadnij wybór."
   ]
  },
  {
   "cell_type": "markdown",
   "metadata": {},
   "source": [
    "#### Zadanie 8\n",
    "\n",
    "Masz obraz zawierający cienką jasną linię na ciemnym tle:\n",
    "```\n",
    "Obraz:\n",
    "0 0 0 0 0\n",
    "0 0 1 0 0\n",
    "0 0 1 0 0\n",
    "0 0 1 0 0\n",
    "0 0 0 0 0\n",
    "```\n",
    "a) Co zostanie uwidocznione przez operację **Top-hat**?  \n",
    "b) Co przez **Black-hat**?  \n",
    "c) Narysuj wynikowy obraz dla każdej z operacji (lub opisz go słownie).\n",
    "\n",
    "Użyj typowego SE np. 3×3 (pełna jedynka).\n",
    "\n"
   ]
  }
 ],
 "metadata": {
  "kernelspec": {
   "display_name": "ml",
   "language": "python",
   "name": "python3"
  },
  "language_info": {
   "name": "python",
   "version": "3.10.13"
  }
 },
 "nbformat": 4,
 "nbformat_minor": 2
}
