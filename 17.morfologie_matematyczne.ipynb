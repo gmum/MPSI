{
 "cells": [
  {
   "cell_type": "markdown",
   "metadata": {},
   "source": [
    "## Obrazy - podstawy i morfologie matematyczne "
   ]
  },
  {
   "cell_type": "markdown",
   "metadata": {},
   "source": [
    "### Zadanie 1:\n",
    "1. Wczytaj obraz w formacie RGB i wyświetl go za pomocą `matplotlib`.\n",
    "2. Następnie przekonwertuj go na skalę szarości. W tym celu:\n",
    "- Zaimplementuj konwersję z RGB do skali szarości \"od zera\" używając wzoru:\n",
    "  \n",
    "    $$Y = 0.299 \\cdot R + 0.587 \\cdot G + 0.114 \\cdot B$$\n",
    "\n",
    "- Porównaj wynik z metodą `skimage.color.rgb2gray()`.\n",
    "\n",
    "3. Zaimplementuj własną wersję konwersji do skali szarości, w której wagi dla kanałów są różne (np. większy nacisk na kanał czerwony niż zielony czy niebieski) i zaobserwuj różnice."
   ]
  },
  {
   "cell_type": "code",
   "execution_count": 3,
   "metadata": {},
   "outputs": [],
   "source": [
    "# your code"
   ]
  },
  {
   "cell_type": "markdown",
   "metadata": {},
   "source": [
    "### Zadanie 3:\n",
    "Zaimplementuj prostą binaryzację obrazu:\n",
    "- Ustaw próg jasności ręcznie i przypisz piksele poniżej progu do koloru czarnego, a powyżej do białego.\n",
    "- Zwizualizuj wynik.\n"
   ]
  },
  {
   "cell_type": "code",
   "execution_count": 4,
   "metadata": {},
   "outputs": [],
   "source": [
    "#your code"
   ]
  },
  {
   "cell_type": "markdown",
   "metadata": {},
   "source": [
    "### Zadanie 4:\n",
    "Zaimplementuj metodę Otsu od podstaw:\n",
    "- Policz histogram obrazu.\n",
    "- Wyznacz próg jasności metodą maksymalnej wariancji międzyklasowej.\n",
    "- Porównaj wynik z metodą `skimage.filters.threshold_otsu()`."
   ]
  },
  {
   "cell_type": "code",
   "execution_count": 5,
   "metadata": {},
   "outputs": [],
   "source": [
    "# your code"
   ]
  },
  {
   "cell_type": "markdown",
   "metadata": {},
   "source": [
    "### Zadanie 4*:\n",
    "Zastosuj metodę Otsu na osobnych kanałach RGB i porównaj wyniki. Który kanał najlepiej rozdziela obiekty?"
   ]
  },
  {
   "cell_type": "code",
   "execution_count": 6,
   "metadata": {},
   "outputs": [],
   "source": [
    "# your code"
   ]
  },
  {
   "cell_type": "markdown",
   "metadata": {},
   "source": [
    "### Zadanie 5:\n",
    "Zaimplementuj od podstaw:\n",
    "- **Erozję** (usuwanie pikseli z brzegu obiektu).\n",
    "- **Dylatację** (dodawanie pikseli do brzegu obiektu).\n",
    "- Zwizualizuj efekty działania na obrazie binarnym."
   ]
  },
  {
   "cell_type": "code",
   "execution_count": 7,
   "metadata": {},
   "outputs": [],
   "source": [
    "# your code"
   ]
  },
  {
   "cell_type": "markdown",
   "metadata": {},
   "source": [
    "### Zadanie 6:\n",
    "Połącz operacje:\n",
    "- Wykonaj **Otwarcie** (erozja + dylatacja) i **Zamknięcie** (dylatacja + erozja).\n",
    "- Przetestuj na obrazach z zakłóceniami i porównaj wyniki.\n",
    "\n",
    "Zastosuj różne elementy strukturalne i sprawdź, jak wpływają na wynik operacji."
   ]
  },
  {
   "cell_type": "code",
   "execution_count": 8,
   "metadata": {},
   "outputs": [],
   "source": [
    "# your code"
   ]
  },
  {
   "cell_type": "markdown",
   "metadata": {},
   "source": [
    "### Zadanie 7:\n",
    "Zaimplementuj:\n",
    "- **Top-hat** (wyciąganie jasnych obszarów mniejszych niż element strukturalny).\n",
    "- **Black-hat** (wyciąganie ciemnych obszarów w jasnym tle).\n"
   ]
  },
  {
   "cell_type": "code",
   "execution_count": 9,
   "metadata": {},
   "outputs": [],
   "source": [
    "# your code"
   ]
  },
  {
   "cell_type": "markdown",
   "metadata": {},
   "source": [
    "### Zadanie 8:\n",
    "Szkieletyzacja:\n",
    "- Zaimplementuj algorytm szkieletyzacji od podstaw.\n",
    "- Porównaj wynik z metodą `skimage.morphology.skeletonize()`.\n"
   ]
  },
  {
   "cell_type": "code",
   "execution_count": 10,
   "metadata": {},
   "outputs": [],
   "source": [
    "# your code"
   ]
  },
  {
   "cell_type": "markdown",
   "metadata": {},
   "source": [
    "### Zadanie 10:\n",
    "Napisz funkcję, która dla podanego zbioru zdjęć siatkówki oka wykonuje segmentację naczyń krwionośnych.\n",
    "- Wykorzystaj przekształcenia morfologiczne oraz metody filtracji.\n",
    "- Przetestuj działanie dla wszystkich zdjęć, zwizualizuj wyniki.\n",
    "\n",
    "**Wskazówki:**  \n",
    "- Użyj przekształcenia top-hat, aby wzmocnić drobne struktury.\n",
    "- Wykonaj operacje otwarcia/zamknięcia, aby usunąć szumy.\n",
    "- Zastosuj szkieletyzację dla końcowego efektu.\n"
   ]
  },
  {
   "cell_type": "code",
   "execution_count": 11,
   "metadata": {},
   "outputs": [],
   "source": [
    "# your code"
   ]
  },
  {
   "cell_type": "markdown",
   "metadata": {},
   "source": [
    "### Zadanie 11:\n",
    "Rozszerz zadanie 10, aby wykonać automatyczne wykrywanie anomalii w naczyniach (np. zgrubienia).\n",
    "- Opracuj sposób na analizę kształtu i grubości naczyń wyłącznie za pomocą przekształceń obrazu i morfologii matematycznych.\n",
    "- Wykryj nieprawidłowości i zwizualizuj je na obrazie."
   ]
  },
  {
   "cell_type": "code",
   "execution_count": 12,
   "metadata": {},
   "outputs": [],
   "source": [
    "# your code"
   ]
  }
 ],
 "metadata": {
  "kernelspec": {
   "display_name": "ml",
   "language": "python",
   "name": "python3"
  },
  "language_info": {
   "codemirror_mode": {
    "name": "ipython",
    "version": 3
   },
   "file_extension": ".py",
   "mimetype": "text/x-python",
   "name": "python",
   "nbconvert_exporter": "python",
   "pygments_lexer": "ipython3",
   "version": "3.10.13"
  }
 },
 "nbformat": 4,
 "nbformat_minor": 2
}
